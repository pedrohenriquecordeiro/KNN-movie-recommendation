{
  "nbformat": 4,
  "nbformat_minor": 0,
  "metadata": {
    "colab": {
      "name": "sistema_recomendacao.ipynb",
      "version": "0.3.2",
      "provenance": [],
      "collapsed_sections": [],
      "include_colab_link": true
    },
    "kernelspec": {
      "name": "python3",
      "display_name": "Python 3"
    }
  },
  "cells": [
    {
      "cell_type": "markdown",
      "metadata": {
        "id": "view-in-github",
        "colab_type": "text"
      },
      "source": [
        "<a href=\"https://colab.research.google.com/github/pedrohenriquecordeiro/KNN-movie-recommendation/blob/master/sistema_recomendacao.ipynb\" target=\"_parent\"><img src=\"https://colab.research.google.com/assets/colab-badge.svg\" alt=\"Open In Colab\"/></a>"
      ]
    },
    {
      "cell_type": "code",
      "metadata": {
        "id": "KrNAREqGL-Xd",
        "colab_type": "code",
        "outputId": "4bde0127-d1bd-47c3-d1d5-a8bda22e9622",
        "colab": {
          "base_uri": "https://localhost:8080/",
          "height": 34
        }
      },
      "source": [
        "from google.colab import drive\n",
        "drive.mount('/content/drive')"
      ],
      "execution_count": 1,
      "outputs": [
        {
          "output_type": "stream",
          "text": [
            "Drive already mounted at /content/drive; to attempt to forcibly remount, call drive.mount(\"/content/drive\", force_remount=True).\n"
          ],
          "name": "stdout"
        }
      ]
    },
    {
      "cell_type": "code",
      "metadata": {
        "id": "p3c9mJ_-BJlD",
        "colab_type": "code",
        "colab": {}
      },
      "source": [
        "import pandas as pd\n",
        "\n",
        "movies = pd.read_csv(\"/content/drive/My Drive/data/movies.csv\")\n",
        "ratings = pd.read_csv(\"/content/drive/My Drive/data/ratings.csv\")"
      ],
      "execution_count": 0,
      "outputs": []
    },
    {
      "cell_type": "markdown",
      "metadata": {
        "id": "lLlGDsUqB9u9",
        "colab_type": "text"
      },
      "source": [
        "### Detalhes do dataset MOVIES"
      ]
    },
    {
      "cell_type": "code",
      "metadata": {
        "id": "Gs-6h58AA8eK",
        "colab_type": "code",
        "outputId": "12f7ad4f-c718-4533-e38b-d9aa61d2c01a",
        "colab": {
          "base_uri": "https://localhost:8080/",
          "height": 235
        }
      },
      "source": [
        "# set o id\n",
        "movies = movies.set_index('movieId')\n",
        "movies.head()"
      ],
      "execution_count": 3,
      "outputs": [
        {
          "output_type": "execute_result",
          "data": {
            "text/html": [
              "<div>\n",
              "<style scoped>\n",
              "    .dataframe tbody tr th:only-of-type {\n",
              "        vertical-align: middle;\n",
              "    }\n",
              "\n",
              "    .dataframe tbody tr th {\n",
              "        vertical-align: top;\n",
              "    }\n",
              "\n",
              "    .dataframe thead th {\n",
              "        text-align: right;\n",
              "    }\n",
              "</style>\n",
              "<table border=\"1\" class=\"dataframe\">\n",
              "  <thead>\n",
              "    <tr style=\"text-align: right;\">\n",
              "      <th></th>\n",
              "      <th>title</th>\n",
              "      <th>genres</th>\n",
              "    </tr>\n",
              "    <tr>\n",
              "      <th>movieId</th>\n",
              "      <th></th>\n",
              "      <th></th>\n",
              "    </tr>\n",
              "  </thead>\n",
              "  <tbody>\n",
              "    <tr>\n",
              "      <th>1</th>\n",
              "      <td>Toy Story (1995)</td>\n",
              "      <td>Adventure|Animation|Children|Comedy|Fantasy</td>\n",
              "    </tr>\n",
              "    <tr>\n",
              "      <th>2</th>\n",
              "      <td>Jumanji (1995)</td>\n",
              "      <td>Adventure|Children|Fantasy</td>\n",
              "    </tr>\n",
              "    <tr>\n",
              "      <th>3</th>\n",
              "      <td>Grumpier Old Men (1995)</td>\n",
              "      <td>Comedy|Romance</td>\n",
              "    </tr>\n",
              "    <tr>\n",
              "      <th>4</th>\n",
              "      <td>Waiting to Exhale (1995)</td>\n",
              "      <td>Comedy|Drama|Romance</td>\n",
              "    </tr>\n",
              "    <tr>\n",
              "      <th>5</th>\n",
              "      <td>Father of the Bride Part II (1995)</td>\n",
              "      <td>Comedy</td>\n",
              "    </tr>\n",
              "  </tbody>\n",
              "</table>\n",
              "</div>"
            ],
            "text/plain": [
              "                                      title                                       genres\n",
              "movieId                                                                                 \n",
              "1                          Toy Story (1995)  Adventure|Animation|Children|Comedy|Fantasy\n",
              "2                            Jumanji (1995)                   Adventure|Children|Fantasy\n",
              "3                   Grumpier Old Men (1995)                               Comedy|Romance\n",
              "4                  Waiting to Exhale (1995)                         Comedy|Drama|Romance\n",
              "5        Father of the Bride Part II (1995)                                       Comedy"
            ]
          },
          "metadata": {
            "tags": []
          },
          "execution_count": 3
        }
      ]
    },
    {
      "cell_type": "code",
      "metadata": {
        "id": "TDnnAlMlNiQQ",
        "colab_type": "code",
        "outputId": "9d6b44be-75ef-451f-8a26-b6b6eb62d2ed",
        "colab": {
          "base_uri": "https://localhost:8080/",
          "height": 173
        }
      },
      "source": [
        "movies.describe()"
      ],
      "execution_count": 4,
      "outputs": [
        {
          "output_type": "execute_result",
          "data": {
            "text/html": [
              "<div>\n",
              "<style scoped>\n",
              "    .dataframe tbody tr th:only-of-type {\n",
              "        vertical-align: middle;\n",
              "    }\n",
              "\n",
              "    .dataframe tbody tr th {\n",
              "        vertical-align: top;\n",
              "    }\n",
              "\n",
              "    .dataframe thead th {\n",
              "        text-align: right;\n",
              "    }\n",
              "</style>\n",
              "<table border=\"1\" class=\"dataframe\">\n",
              "  <thead>\n",
              "    <tr style=\"text-align: right;\">\n",
              "      <th></th>\n",
              "      <th>title</th>\n",
              "      <th>genres</th>\n",
              "    </tr>\n",
              "  </thead>\n",
              "  <tbody>\n",
              "    <tr>\n",
              "      <th>count</th>\n",
              "      <td>58098</td>\n",
              "      <td>58098</td>\n",
              "    </tr>\n",
              "    <tr>\n",
              "      <th>unique</th>\n",
              "      <td>58020</td>\n",
              "      <td>1643</td>\n",
              "    </tr>\n",
              "    <tr>\n",
              "      <th>top</th>\n",
              "      <td>Interrogation (2016)</td>\n",
              "      <td>Drama</td>\n",
              "    </tr>\n",
              "    <tr>\n",
              "      <th>freq</th>\n",
              "      <td>2</td>\n",
              "      <td>8402</td>\n",
              "    </tr>\n",
              "  </tbody>\n",
              "</table>\n",
              "</div>"
            ],
            "text/plain": [
              "                       title genres\n",
              "count                  58098  58098\n",
              "unique                 58020   1643\n",
              "top     Interrogation (2016)  Drama\n",
              "freq                       2   8402"
            ]
          },
          "metadata": {
            "tags": []
          },
          "execution_count": 4
        }
      ]
    },
    {
      "cell_type": "markdown",
      "metadata": {
        "id": "VEqNta4fCBvs",
        "colab_type": "text"
      },
      "source": [
        "### Detalhes do dataset RATINGS"
      ]
    },
    {
      "cell_type": "code",
      "metadata": {
        "id": "4f0_PgKzA-zg",
        "colab_type": "code",
        "outputId": "9e1e3eca-a954-4be6-8480-5d6b07e3c81e",
        "colab": {
          "base_uri": "https://localhost:8080/",
          "height": 204
        }
      },
      "source": [
        "# set o id\n",
        "ratings.head()"
      ],
      "execution_count": 5,
      "outputs": [
        {
          "output_type": "execute_result",
          "data": {
            "text/html": [
              "<div>\n",
              "<style scoped>\n",
              "    .dataframe tbody tr th:only-of-type {\n",
              "        vertical-align: middle;\n",
              "    }\n",
              "\n",
              "    .dataframe tbody tr th {\n",
              "        vertical-align: top;\n",
              "    }\n",
              "\n",
              "    .dataframe thead th {\n",
              "        text-align: right;\n",
              "    }\n",
              "</style>\n",
              "<table border=\"1\" class=\"dataframe\">\n",
              "  <thead>\n",
              "    <tr style=\"text-align: right;\">\n",
              "      <th></th>\n",
              "      <th>userId</th>\n",
              "      <th>movieId</th>\n",
              "      <th>rating</th>\n",
              "      <th>timestamp</th>\n",
              "    </tr>\n",
              "  </thead>\n",
              "  <tbody>\n",
              "    <tr>\n",
              "      <th>0</th>\n",
              "      <td>1</td>\n",
              "      <td>307</td>\n",
              "      <td>3.5</td>\n",
              "      <td>1256677221</td>\n",
              "    </tr>\n",
              "    <tr>\n",
              "      <th>1</th>\n",
              "      <td>1</td>\n",
              "      <td>481</td>\n",
              "      <td>3.5</td>\n",
              "      <td>1256677456</td>\n",
              "    </tr>\n",
              "    <tr>\n",
              "      <th>2</th>\n",
              "      <td>1</td>\n",
              "      <td>1091</td>\n",
              "      <td>1.5</td>\n",
              "      <td>1256677471</td>\n",
              "    </tr>\n",
              "    <tr>\n",
              "      <th>3</th>\n",
              "      <td>1</td>\n",
              "      <td>1257</td>\n",
              "      <td>4.5</td>\n",
              "      <td>1256677460</td>\n",
              "    </tr>\n",
              "    <tr>\n",
              "      <th>4</th>\n",
              "      <td>1</td>\n",
              "      <td>1449</td>\n",
              "      <td>4.5</td>\n",
              "      <td>1256677264</td>\n",
              "    </tr>\n",
              "  </tbody>\n",
              "</table>\n",
              "</div>"
            ],
            "text/plain": [
              "   userId  movieId  rating   timestamp\n",
              "0       1      307     3.5  1256677221\n",
              "1       1      481     3.5  1256677456\n",
              "2       1     1091     1.5  1256677471\n",
              "3       1     1257     4.5  1256677460\n",
              "4       1     1449     4.5  1256677264"
            ]
          },
          "metadata": {
            "tags": []
          },
          "execution_count": 5
        }
      ]
    },
    {
      "cell_type": "code",
      "metadata": {
        "id": "1ysU-TSTNnKr",
        "colab_type": "code",
        "outputId": "f7dbad6d-98a3-4f83-e011-0a1bed4a5be1",
        "colab": {
          "base_uri": "https://localhost:8080/",
          "height": 297
        }
      },
      "source": [
        "ratings.describe()"
      ],
      "execution_count": 6,
      "outputs": [
        {
          "output_type": "execute_result",
          "data": {
            "text/html": [
              "<div>\n",
              "<style scoped>\n",
              "    .dataframe tbody tr th:only-of-type {\n",
              "        vertical-align: middle;\n",
              "    }\n",
              "\n",
              "    .dataframe tbody tr th {\n",
              "        vertical-align: top;\n",
              "    }\n",
              "\n",
              "    .dataframe thead th {\n",
              "        text-align: right;\n",
              "    }\n",
              "</style>\n",
              "<table border=\"1\" class=\"dataframe\">\n",
              "  <thead>\n",
              "    <tr style=\"text-align: right;\">\n",
              "      <th></th>\n",
              "      <th>userId</th>\n",
              "      <th>movieId</th>\n",
              "      <th>rating</th>\n",
              "      <th>timestamp</th>\n",
              "    </tr>\n",
              "  </thead>\n",
              "  <tbody>\n",
              "    <tr>\n",
              "      <th>count</th>\n",
              "      <td>2.775344e+07</td>\n",
              "      <td>2.775344e+07</td>\n",
              "      <td>2.775344e+07</td>\n",
              "      <td>2.775344e+07</td>\n",
              "    </tr>\n",
              "    <tr>\n",
              "      <th>mean</th>\n",
              "      <td>1.419420e+05</td>\n",
              "      <td>1.848800e+04</td>\n",
              "      <td>3.530445e+00</td>\n",
              "      <td>1.193122e+09</td>\n",
              "    </tr>\n",
              "    <tr>\n",
              "      <th>std</th>\n",
              "      <td>8.170740e+04</td>\n",
              "      <td>3.510263e+04</td>\n",
              "      <td>1.066353e+00</td>\n",
              "      <td>2.160482e+08</td>\n",
              "    </tr>\n",
              "    <tr>\n",
              "      <th>min</th>\n",
              "      <td>1.000000e+00</td>\n",
              "      <td>1.000000e+00</td>\n",
              "      <td>5.000000e-01</td>\n",
              "      <td>7.896520e+08</td>\n",
              "    </tr>\n",
              "    <tr>\n",
              "      <th>25%</th>\n",
              "      <td>7.117600e+04</td>\n",
              "      <td>1.097000e+03</td>\n",
              "      <td>3.000000e+00</td>\n",
              "      <td>9.986053e+08</td>\n",
              "    </tr>\n",
              "    <tr>\n",
              "      <th>50%</th>\n",
              "      <td>1.420220e+05</td>\n",
              "      <td>2.716000e+03</td>\n",
              "      <td>3.500000e+00</td>\n",
              "      <td>1.174256e+09</td>\n",
              "    </tr>\n",
              "    <tr>\n",
              "      <th>75%</th>\n",
              "      <td>2.124590e+05</td>\n",
              "      <td>7.150000e+03</td>\n",
              "      <td>4.000000e+00</td>\n",
              "      <td>1.422744e+09</td>\n",
              "    </tr>\n",
              "    <tr>\n",
              "      <th>max</th>\n",
              "      <td>2.832280e+05</td>\n",
              "      <td>1.938860e+05</td>\n",
              "      <td>5.000000e+00</td>\n",
              "      <td>1.537945e+09</td>\n",
              "    </tr>\n",
              "  </tbody>\n",
              "</table>\n",
              "</div>"
            ],
            "text/plain": [
              "             userId       movieId        rating     timestamp\n",
              "count  2.775344e+07  2.775344e+07  2.775344e+07  2.775344e+07\n",
              "mean   1.419420e+05  1.848800e+04  3.530445e+00  1.193122e+09\n",
              "std    8.170740e+04  3.510263e+04  1.066353e+00  2.160482e+08\n",
              "min    1.000000e+00  1.000000e+00  5.000000e-01  7.896520e+08\n",
              "25%    7.117600e+04  1.097000e+03  3.000000e+00  9.986053e+08\n",
              "50%    1.420220e+05  2.716000e+03  3.500000e+00  1.174256e+09\n",
              "75%    2.124590e+05  7.150000e+03  4.000000e+00  1.422744e+09\n",
              "max    2.832280e+05  1.938860e+05  5.000000e+00  1.537945e+09"
            ]
          },
          "metadata": {
            "tags": []
          },
          "execution_count": 6
        }
      ]
    },
    {
      "cell_type": "code",
      "metadata": {
        "id": "XZSyooriTkuJ",
        "colab_type": "code",
        "colab": {}
      },
      "source": [
        "# limita o tamanho do dataset\n",
        "# ratings = ratings.sample(frac = 0.001)\n",
        "# ratings.describe()"
      ],
      "execution_count": 0,
      "outputs": []
    },
    {
      "cell_type": "markdown",
      "metadata": {
        "id": "xfdoqXWMOq0O",
        "colab_type": "text"
      },
      "source": [
        "### Cria um novo dataset MOVIES\n",
        "\n",
        "* numero de votos do cada filme\n",
        "\n",
        "* media das notas de cada filme"
      ]
    },
    {
      "cell_type": "code",
      "metadata": {
        "id": "sXa8skuWNu-E",
        "colab_type": "code",
        "colab": {}
      },
      "source": [
        "movies['total_ratings'] = ratings[\"movieId\"].value_counts()\n",
        "movies[\"mean_ratings\"] = ratings.groupby(\"movieId\").mean()[\"rating\"]"
      ],
      "execution_count": 0,
      "outputs": []
    },
    {
      "cell_type": "markdown",
      "metadata": {
        "id": "21o3o0Dk8v5e",
        "colab_type": "text"
      },
      "source": [
        "Filtra os filmes com mais de 50 votos e ordena a partir da media de votos (0 a 5)"
      ]
    },
    {
      "cell_type": "code",
      "metadata": {
        "id": "7OzA9v18OSnN",
        "colab_type": "code",
        "outputId": "a53d736d-5776-413a-c83c-9dd5f29338cd",
        "colab": {
          "base_uri": "https://localhost:8080/",
          "height": 328
        }
      },
      "source": [
        "filtered_movies = movies.query(\"total_ratings >= 50\").sort_values(\"mean_ratings\", ascending = False)\n",
        "filtered_movies.head(8)"
      ],
      "execution_count": 9,
      "outputs": [
        {
          "output_type": "execute_result",
          "data": {
            "text/html": [
              "<div>\n",
              "<style scoped>\n",
              "    .dataframe tbody tr th:only-of-type {\n",
              "        vertical-align: middle;\n",
              "    }\n",
              "\n",
              "    .dataframe tbody tr th {\n",
              "        vertical-align: top;\n",
              "    }\n",
              "\n",
              "    .dataframe thead th {\n",
              "        text-align: right;\n",
              "    }\n",
              "</style>\n",
              "<table border=\"1\" class=\"dataframe\">\n",
              "  <thead>\n",
              "    <tr style=\"text-align: right;\">\n",
              "      <th></th>\n",
              "      <th>title</th>\n",
              "      <th>genres</th>\n",
              "      <th>total_ratings</th>\n",
              "      <th>mean_ratings</th>\n",
              "    </tr>\n",
              "    <tr>\n",
              "      <th>movieId</th>\n",
              "      <th></th>\n",
              "      <th></th>\n",
              "      <th></th>\n",
              "      <th></th>\n",
              "    </tr>\n",
              "  </thead>\n",
              "  <tbody>\n",
              "    <tr>\n",
              "      <th>171011</th>\n",
              "      <td>Planet Earth II (2016)</td>\n",
              "      <td>Documentary</td>\n",
              "      <td>853.0</td>\n",
              "      <td>4.486518</td>\n",
              "    </tr>\n",
              "    <tr>\n",
              "      <th>159817</th>\n",
              "      <td>Planet Earth (2006)</td>\n",
              "      <td>Documentary</td>\n",
              "      <td>1384.0</td>\n",
              "      <td>4.458092</td>\n",
              "    </tr>\n",
              "    <tr>\n",
              "      <th>318</th>\n",
              "      <td>Shawshank Redemption, The (1994)</td>\n",
              "      <td>Crime|Drama</td>\n",
              "      <td>97999.0</td>\n",
              "      <td>4.424188</td>\n",
              "    </tr>\n",
              "    <tr>\n",
              "      <th>170705</th>\n",
              "      <td>Band of Brothers (2001)</td>\n",
              "      <td>Action|Drama|War</td>\n",
              "      <td>984.0</td>\n",
              "      <td>4.399898</td>\n",
              "    </tr>\n",
              "    <tr>\n",
              "      <th>174053</th>\n",
              "      <td>Black Mirror: White Christmas (2014)</td>\n",
              "      <td>Drama|Horror|Mystery|Sci-Fi|Thriller</td>\n",
              "      <td>1074.0</td>\n",
              "      <td>4.350559</td>\n",
              "    </tr>\n",
              "    <tr>\n",
              "      <th>171495</th>\n",
              "      <td>Cosmos</td>\n",
              "      <td>(no genres listed)</td>\n",
              "      <td>157.0</td>\n",
              "      <td>4.343949</td>\n",
              "    </tr>\n",
              "    <tr>\n",
              "      <th>172591</th>\n",
              "      <td>The Godfather Trilogy: 1972-1990 (1992)</td>\n",
              "      <td>(no genres listed)</td>\n",
              "      <td>421.0</td>\n",
              "      <td>4.339667</td>\n",
              "    </tr>\n",
              "    <tr>\n",
              "      <th>858</th>\n",
              "      <td>Godfather, The (1972)</td>\n",
              "      <td>Crime|Drama</td>\n",
              "      <td>60904.0</td>\n",
              "      <td>4.332893</td>\n",
              "    </tr>\n",
              "  </tbody>\n",
              "</table>\n",
              "</div>"
            ],
            "text/plain": [
              "                                           title  ... mean_ratings\n",
              "movieId                                           ...             \n",
              "171011                    Planet Earth II (2016)  ...     4.486518\n",
              "159817                       Planet Earth (2006)  ...     4.458092\n",
              "318             Shawshank Redemption, The (1994)  ...     4.424188\n",
              "170705                   Band of Brothers (2001)  ...     4.399898\n",
              "174053      Black Mirror: White Christmas (2014)  ...     4.350559\n",
              "171495                                    Cosmos  ...     4.343949\n",
              "172591   The Godfather Trilogy: 1972-1990 (1992)  ...     4.339667\n",
              "858                        Godfather, The (1972)  ...     4.332893\n",
              "\n",
              "[8 rows x 4 columns]"
            ]
          },
          "metadata": {
            "tags": []
          },
          "execution_count": 9
        }
      ]
    },
    {
      "cell_type": "markdown",
      "metadata": {
        "id": "FRxxoArI2aE0",
        "colab_type": "text"
      },
      "source": [
        "### Define algumas funções auxiliares"
      ]
    },
    {
      "cell_type": "code",
      "metadata": {
        "id": "WWvqWbQT2aNs",
        "colab_type": "code",
        "colab": {}
      },
      "source": [
        "import numpy as np\n",
        "import random\n",
        "\n",
        "# distância euclidiana\n",
        "def distance(a,b):\n",
        "  return np.linalg.norm(a - b)\n",
        "  \n",
        "# retorna apenas as notas de um user\n",
        "def user_rating(user):\n",
        "  r = ratings.query(\"userId==%d\" % user)\n",
        "  r = r[[\"movieId\", \"rating\"]].set_index(\"movieId\")\n",
        "  return r\n",
        "\n",
        "# retorna a distância euclidiana entre dois users\n",
        "def user_distance(user1, user2, movies_common = 10):\n",
        "  r1 = user_rating(user1)\n",
        "  r2 = user_rating(user2)\n",
        "  \n",
        "  # une as notas dos dois usuários ( teremos os filmes em comum )\n",
        "  # drop em rows com NaN\n",
        "  d = r1.join(r2, lsuffix=\"_1\", rsuffix=\"_2\").dropna()\n",
        "  \n",
        "  # user com poucos filmes não são listados\n",
        "  if(len(d) < movies_common):\n",
        "    return None\n",
        "  else:\n",
        "    return [user1,user2,distance(d['rating_1'], d['rating_2'])]\n",
        "\n",
        "# retorna a distância de user_id para number_users_to_analyze users\n",
        "def distance_from(user_id, number_users_to_analyze = None):\n",
        "  all_ = ratings['userId'].unique()\n",
        "  # randomiza\n",
        "  np.random.shuffle(all_)\n",
        "  # retira o user_id\n",
        "  all_ = all_[all_ != user_id]\n",
        "  # seleciona apenas uma parte [ fica muito lento com todos os dados]\n",
        "  all_ = all_[:number_users_to_analyze]\n",
        "  \n",
        "  distance = []\n",
        "  for u_id in all_:\n",
        "    value_distance = user_distance(user_id, u_id)\n",
        "    if value_distance != None:\n",
        "      distance.append(value_distance)  \n",
        "  \n",
        "  distance = pd.DataFrame(distance, columns = [\"me\", \"outhers\", \"distance\"])\n",
        "  return distance\n",
        "\n",
        "# calcula a distância de um user para todos os outros users ( KNN )\n",
        "def knn(user_id, k_nearest = None):\n",
        "  distances = distance_from(user_id,number_users_to_analyze = 100)\n",
        "  distances = distances.sort_values(\"distance\")\n",
        "  # ignoro o erro - pois o drop alerta quando eu tento eliminar rows com index que nao existem no dataframe\n",
        "  distances = distances.set_index(\"outhers\").drop(user_id, errors = 'ignore')\n",
        "  # por padrao retorna todos, porém posso definir um limite\n",
        "  return distances.head(k_nearest)"
      ],
      "execution_count": 0,
      "outputs": []
    },
    {
      "cell_type": "markdown",
      "metadata": {
        "id": "MXdLpLI3mHkq",
        "colab_type": "text"
      },
      "source": [
        "#### Pessoa mais similar"
      ]
    },
    {
      "cell_type": "code",
      "metadata": {
        "id": "5i4_doeQwcfR",
        "colab_type": "code",
        "outputId": "45141ae9-3b7a-45e5-b07e-3e76e0a15840",
        "colab": {
          "base_uri": "https://localhost:8080/",
          "height": 34
        }
      },
      "source": [
        "# pega o mais similar de um user\n",
        "user = 5\n",
        "similar = knn(user).iloc[0].name\n",
        "similar"
      ],
      "execution_count": 11,
      "outputs": [
        {
          "output_type": "execute_result",
          "data": {
            "text/plain": [
              "126893"
            ]
          },
          "metadata": {
            "tags": []
          },
          "execution_count": 11
        }
      ]
    },
    {
      "cell_type": "markdown",
      "metadata": {
        "id": "LazqMjvkm_m6",
        "colab_type": "text"
      },
      "source": [
        "#### Notas do mais similar"
      ]
    },
    {
      "cell_type": "code",
      "metadata": {
        "id": "1rQt2mDgm_t_",
        "colab_type": "code",
        "outputId": "7230ab36-f7c7-4b59-94df-0144d2417bd4",
        "colab": {
          "base_uri": "https://localhost:8080/",
          "height": 235
        }
      },
      "source": [
        "# busca as notas do similar\n",
        "ratings_similar = user_rating(similar)\n",
        "\n",
        "# elimina as notas dos filmes que o user analisado já assistiu ( usa o index poq o movieId é o indice do dataframe)\n",
        "ratings_user_index = user_rating(user).index\n",
        "ratings_similar = ratings_similar.drop(ratings_user_index,errors = 'ignore')\n",
        "ratings_similar.sort_values('rating',ascending = False).head().join(movies)"
      ],
      "execution_count": 12,
      "outputs": [
        {
          "output_type": "execute_result",
          "data": {
            "text/html": [
              "<div>\n",
              "<style scoped>\n",
              "    .dataframe tbody tr th:only-of-type {\n",
              "        vertical-align: middle;\n",
              "    }\n",
              "\n",
              "    .dataframe tbody tr th {\n",
              "        vertical-align: top;\n",
              "    }\n",
              "\n",
              "    .dataframe thead th {\n",
              "        text-align: right;\n",
              "    }\n",
              "</style>\n",
              "<table border=\"1\" class=\"dataframe\">\n",
              "  <thead>\n",
              "    <tr style=\"text-align: right;\">\n",
              "      <th></th>\n",
              "      <th>rating</th>\n",
              "      <th>title</th>\n",
              "      <th>genres</th>\n",
              "      <th>total_ratings</th>\n",
              "      <th>mean_ratings</th>\n",
              "    </tr>\n",
              "    <tr>\n",
              "      <th>movieId</th>\n",
              "      <th></th>\n",
              "      <th></th>\n",
              "      <th></th>\n",
              "      <th></th>\n",
              "      <th></th>\n",
              "    </tr>\n",
              "  </thead>\n",
              "  <tbody>\n",
              "    <tr>\n",
              "      <th>1</th>\n",
              "      <td>5.0</td>\n",
              "      <td>Toy Story (1995)</td>\n",
              "      <td>Adventure|Animation|Children|Comedy|Fantasy</td>\n",
              "      <td>68469.0</td>\n",
              "      <td>3.886649</td>\n",
              "    </tr>\n",
              "    <tr>\n",
              "      <th>1060</th>\n",
              "      <td>5.0</td>\n",
              "      <td>Swingers (1996)</td>\n",
              "      <td>Comedy|Drama</td>\n",
              "      <td>10834.0</td>\n",
              "      <td>3.822088</td>\n",
              "    </tr>\n",
              "    <tr>\n",
              "      <th>1733</th>\n",
              "      <td>5.0</td>\n",
              "      <td>Afterglow (1997)</td>\n",
              "      <td>Drama|Romance</td>\n",
              "      <td>570.0</td>\n",
              "      <td>3.278070</td>\n",
              "    </tr>\n",
              "    <tr>\n",
              "      <th>1701</th>\n",
              "      <td>5.0</td>\n",
              "      <td>Deconstructing Harry (1997)</td>\n",
              "      <td>Comedy|Drama</td>\n",
              "      <td>3368.0</td>\n",
              "      <td>3.468973</td>\n",
              "    </tr>\n",
              "    <tr>\n",
              "      <th>1685</th>\n",
              "      <td>5.0</td>\n",
              "      <td>I Love You, I Love You Not (1996)</td>\n",
              "      <td>Drama|Romance</td>\n",
              "      <td>97.0</td>\n",
              "      <td>2.953608</td>\n",
              "    </tr>\n",
              "  </tbody>\n",
              "</table>\n",
              "</div>"
            ],
            "text/plain": [
              "         rating                              title  ... total_ratings  mean_ratings\n",
              "movieId                                             ...                            \n",
              "1           5.0                   Toy Story (1995)  ...       68469.0      3.886649\n",
              "1060        5.0                    Swingers (1996)  ...       10834.0      3.822088\n",
              "1733        5.0                   Afterglow (1997)  ...         570.0      3.278070\n",
              "1701        5.0        Deconstructing Harry (1997)  ...        3368.0      3.468973\n",
              "1685        5.0  I Love You, I Love You Not (1996)  ...          97.0      2.953608\n",
              "\n",
              "[5 rows x 5 columns]"
            ]
          },
          "metadata": {
            "tags": []
          },
          "execution_count": 12
        }
      ]
    },
    {
      "cell_type": "markdown",
      "metadata": {
        "id": "Yu_DmVImrmYT",
        "colab_type": "text"
      },
      "source": [
        "### Tem o risco de se recomendar um filme de nicho para o user,portanto não iremos basear a recomendação em apenas uma pessoa similar, mas em várias"
      ]
    },
    {
      "cell_type": "code",
      "metadata": {
        "id": "ZvwBe77mrmjm",
        "colab_type": "code",
        "outputId": "5a3fd60a-baeb-47aa-ce74-3da73952f722",
        "colab": {
          "base_uri": "https://localhost:8080/",
          "height": 68
        }
      },
      "source": [
        "# pega até dez mais similares\n",
        "user = 5\n",
        "sames = knn(user,k_nearest = 10).index\n",
        "sames"
      ],
      "execution_count": 13,
      "outputs": [
        {
          "output_type": "execute_result",
          "data": {
            "text/plain": [
              "Int64Index([91561, 155873, 94994, 56382, 3413, 196396, 93627, 19940, 216859,\n",
              "            128118],\n",
              "           dtype='int64', name='outhers')"
            ]
          },
          "metadata": {
            "tags": []
          },
          "execution_count": 13
        }
      ]
    },
    {
      "cell_type": "code",
      "metadata": {
        "id": "a5TBmn-DvLBl",
        "colab_type": "code",
        "outputId": "cd465ca2-414d-4bdd-ce97-ee996f5d93fe",
        "colab": {
          "base_uri": "https://localhost:8080/",
          "height": 235
        }
      },
      "source": [
        "# busca as notas dos similares\n",
        "ratings_sames = ratings.set_index('userId').loc[sames]\n",
        "ratings_sames = ratings_sames.groupby('movieId').mean()[['rating']]\n",
        "# conta o numero de vezes cada filme foi avaliada dentro dos k nearest neighbors\n",
        "apparitions = ratings_sames.groupby('movieId').count()[['rating']]\n",
        "ratings_sames = ratings_sames.join(apparitions,lsuffix = '_mean_k_nearest',rsuffix = '_total_k_nearest')\n",
        "# filtra os filmes para obtermos apenas filmes com um numero de avaliacoes dos k nearest neighbors minima\n",
        "# escolhi o minimo de 5 avaliacoes\n",
        "# ratings_sames = ratings_sames.query('rating_total_k_nearest >= 5')\n",
        "# remove os filmes que o user já assistiu\n",
        "movies_already_watched = user_rating(user).index\n",
        "ratings_sames = ratings_sames.drop(movies_already_watched , errors='ignore')\n",
        "ratings_sames.sort_values('rating_mean_k_nearest',ascending = False).head().join(movies)"
      ],
      "execution_count": 24,
      "outputs": [
        {
          "output_type": "execute_result",
          "data": {
            "text/html": [
              "<div>\n",
              "<style scoped>\n",
              "    .dataframe tbody tr th:only-of-type {\n",
              "        vertical-align: middle;\n",
              "    }\n",
              "\n",
              "    .dataframe tbody tr th {\n",
              "        vertical-align: top;\n",
              "    }\n",
              "\n",
              "    .dataframe thead th {\n",
              "        text-align: right;\n",
              "    }\n",
              "</style>\n",
              "<table border=\"1\" class=\"dataframe\">\n",
              "  <thead>\n",
              "    <tr style=\"text-align: right;\">\n",
              "      <th></th>\n",
              "      <th>rating_mean_k_nearest</th>\n",
              "      <th>rating_total_k_nearest</th>\n",
              "      <th>title</th>\n",
              "      <th>genres</th>\n",
              "      <th>total_ratings</th>\n",
              "      <th>mean_ratings</th>\n",
              "    </tr>\n",
              "    <tr>\n",
              "      <th>movieId</th>\n",
              "      <th></th>\n",
              "      <th></th>\n",
              "      <th></th>\n",
              "      <th></th>\n",
              "      <th></th>\n",
              "      <th></th>\n",
              "    </tr>\n",
              "  </thead>\n",
              "  <tbody>\n",
              "    <tr>\n",
              "      <th>920</th>\n",
              "      <td>5.0</td>\n",
              "      <td>1</td>\n",
              "      <td>Gone with the Wind (1939)</td>\n",
              "      <td>Drama|Romance|War</td>\n",
              "      <td>18333.0</td>\n",
              "      <td>3.817788</td>\n",
              "    </tr>\n",
              "    <tr>\n",
              "      <th>1221</th>\n",
              "      <td>5.0</td>\n",
              "      <td>1</td>\n",
              "      <td>Godfather: Part II, The (1974)</td>\n",
              "      <td>Crime|Drama</td>\n",
              "      <td>38875.0</td>\n",
              "      <td>4.263035</td>\n",
              "    </tr>\n",
              "    <tr>\n",
              "      <th>1227</th>\n",
              "      <td>5.0</td>\n",
              "      <td>1</td>\n",
              "      <td>Once Upon a Time in America (1984)</td>\n",
              "      <td>Crime|Drama</td>\n",
              "      <td>5142.0</td>\n",
              "      <td>3.966064</td>\n",
              "    </tr>\n",
              "    <tr>\n",
              "      <th>72720</th>\n",
              "      <td>5.0</td>\n",
              "      <td>1</td>\n",
              "      <td>Single Man, A (2009)</td>\n",
              "      <td>Drama</td>\n",
              "      <td>1558.0</td>\n",
              "      <td>3.794288</td>\n",
              "    </tr>\n",
              "    <tr>\n",
              "      <th>7090</th>\n",
              "      <td>5.0</td>\n",
              "      <td>1</td>\n",
              "      <td>Hero (Ying xiong) (2002)</td>\n",
              "      <td>Action|Adventure|Drama</td>\n",
              "      <td>8975.0</td>\n",
              "      <td>3.898942</td>\n",
              "    </tr>\n",
              "  </tbody>\n",
              "</table>\n",
              "</div>"
            ],
            "text/plain": [
              "         rating_mean_k_nearest  ...  mean_ratings\n",
              "movieId                         ...              \n",
              "920                        5.0  ...      3.817788\n",
              "1221                       5.0  ...      4.263035\n",
              "1227                       5.0  ...      3.966064\n",
              "72720                      5.0  ...      3.794288\n",
              "7090                       5.0  ...      3.898942\n",
              "\n",
              "[5 rows x 6 columns]"
            ]
          },
          "metadata": {
            "tags": []
          },
          "execution_count": 24
        }
      ]
    },
    {
      "cell_type": "markdown",
      "metadata": {
        "id": "IJ6ekoQWp64z",
        "colab_type": "text"
      },
      "source": [
        "### Cria funcao que recomenda filmes usando o algoritmo KNN ( k nearest neighbors )"
      ]
    },
    {
      "cell_type": "code",
      "metadata": {
        "id": "NSTlHlYqp7Ak",
        "colab_type": "code",
        "colab": {}
      },
      "source": [
        "def recommend(user_id , k_nearest):\n",
        "  # busca as notas dos similares\n",
        "  ratings_sames = ratings.set_index('userId').loc[sames]\n",
        "  ratings_sames = ratings_sames.groupby('movieId').mean()[['rating']]\n",
        "  # conta o numero de vezes cada filme foi avaliada dentro dos k nearest neighbors\n",
        "  apparitions = ratings_sames.groupby('movieId').count()[['rating']]\n",
        "  ratings_sames = ratings_sames.join(apparitions,lsuffix = '_mean_k_nearest',rsuffix = '_total_k_nearest')\n",
        "  # filtra os filmes para obtermos apenas filmes com um numero de avaliacoes dos k nearest neighbors minima\n",
        "  # escolhi o minimo de 5 avaliacoes\n",
        "  # ratings_sames = ratings_sames.query('rating_total_k_nearest >= 5')\n",
        "  # remove os filmes que o user já assistiu\n",
        "  movies_already_watched = user_rating(user).index\n",
        "  ratings_sames = ratings_sames.drop(movies_already_watched , errors='ignore')\n",
        "  ratings_sames = ratings_sames.sort_values('rating_mean_k_nearest',ascending = False).head().join(movies)\n",
        "  # remove os filmes que o user já assistiu\n",
        "\n",
        "  return ratings_sames\n"
      ],
      "execution_count": 0,
      "outputs": []
    },
    {
      "cell_type": "code",
      "metadata": {
        "id": "Bi6jyi6dyomh",
        "colab_type": "code",
        "outputId": "0c31f646-a047-44fc-8628-c1518a29907e",
        "colab": {
          "base_uri": "https://localhost:8080/",
          "height": 235
        }
      },
      "source": [
        "# recomenda filmes para o user 50, avaliando até 40 similares a ele, ao selecionar 100 dos usuario de todo o universo para analisar\n",
        "recommend(50,k_nearest = 40)"
      ],
      "execution_count": 26,
      "outputs": [
        {
          "output_type": "execute_result",
          "data": {
            "text/html": [
              "<div>\n",
              "<style scoped>\n",
              "    .dataframe tbody tr th:only-of-type {\n",
              "        vertical-align: middle;\n",
              "    }\n",
              "\n",
              "    .dataframe tbody tr th {\n",
              "        vertical-align: top;\n",
              "    }\n",
              "\n",
              "    .dataframe thead th {\n",
              "        text-align: right;\n",
              "    }\n",
              "</style>\n",
              "<table border=\"1\" class=\"dataframe\">\n",
              "  <thead>\n",
              "    <tr style=\"text-align: right;\">\n",
              "      <th></th>\n",
              "      <th>rating_mean_k_nearest</th>\n",
              "      <th>rating_total_k_nearest</th>\n",
              "      <th>title</th>\n",
              "      <th>genres</th>\n",
              "      <th>total_ratings</th>\n",
              "      <th>mean_ratings</th>\n",
              "    </tr>\n",
              "    <tr>\n",
              "      <th>movieId</th>\n",
              "      <th></th>\n",
              "      <th></th>\n",
              "      <th></th>\n",
              "      <th></th>\n",
              "      <th></th>\n",
              "      <th></th>\n",
              "    </tr>\n",
              "  </thead>\n",
              "  <tbody>\n",
              "    <tr>\n",
              "      <th>920</th>\n",
              "      <td>5.0</td>\n",
              "      <td>1</td>\n",
              "      <td>Gone with the Wind (1939)</td>\n",
              "      <td>Drama|Romance|War</td>\n",
              "      <td>18333.0</td>\n",
              "      <td>3.817788</td>\n",
              "    </tr>\n",
              "    <tr>\n",
              "      <th>1221</th>\n",
              "      <td>5.0</td>\n",
              "      <td>1</td>\n",
              "      <td>Godfather: Part II, The (1974)</td>\n",
              "      <td>Crime|Drama</td>\n",
              "      <td>38875.0</td>\n",
              "      <td>4.263035</td>\n",
              "    </tr>\n",
              "    <tr>\n",
              "      <th>1227</th>\n",
              "      <td>5.0</td>\n",
              "      <td>1</td>\n",
              "      <td>Once Upon a Time in America (1984)</td>\n",
              "      <td>Crime|Drama</td>\n",
              "      <td>5142.0</td>\n",
              "      <td>3.966064</td>\n",
              "    </tr>\n",
              "    <tr>\n",
              "      <th>72720</th>\n",
              "      <td>5.0</td>\n",
              "      <td>1</td>\n",
              "      <td>Single Man, A (2009)</td>\n",
              "      <td>Drama</td>\n",
              "      <td>1558.0</td>\n",
              "      <td>3.794288</td>\n",
              "    </tr>\n",
              "    <tr>\n",
              "      <th>7090</th>\n",
              "      <td>5.0</td>\n",
              "      <td>1</td>\n",
              "      <td>Hero (Ying xiong) (2002)</td>\n",
              "      <td>Action|Adventure|Drama</td>\n",
              "      <td>8975.0</td>\n",
              "      <td>3.898942</td>\n",
              "    </tr>\n",
              "  </tbody>\n",
              "</table>\n",
              "</div>"
            ],
            "text/plain": [
              "         rating_mean_k_nearest  ...  mean_ratings\n",
              "movieId                         ...              \n",
              "920                        5.0  ...      3.817788\n",
              "1221                       5.0  ...      4.263035\n",
              "1227                       5.0  ...      3.966064\n",
              "72720                      5.0  ...      3.794288\n",
              "7090                       5.0  ...      3.898942\n",
              "\n",
              "[5 rows x 6 columns]"
            ]
          },
          "metadata": {
            "tags": []
          },
          "execution_count": 26
        }
      ]
    },
    {
      "cell_type": "markdown",
      "metadata": {
        "id": "Xv7cVUu8fPtj",
        "colab_type": "text"
      },
      "source": [
        "#### o proximo passo é filtrar o filmes com baixa votação dentro dos k nearest neighbour\n",
        "#### a biblioteca suprise implementa o KNN"
      ]
    }
  ]
}